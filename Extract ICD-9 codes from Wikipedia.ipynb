{
 "cells": [
  {
   "cell_type": "code",
   "execution_count": 2,
   "id": "b4ee1ff0",
   "metadata": {},
   "outputs": [],
   "source": [
    "from bs4 import BeautifulSoup\n",
    "import requests"
   ]
  },
  {
   "cell_type": "code",
   "execution_count": 3,
   "id": "197b40bc",
   "metadata": {},
   "outputs": [],
   "source": [
    "url = 'https://en.wikipedia.org/wiki/List_of_ICD-9_codes_001%E2%80%93139:_infectious_and_parasitic_diseases'\n",
    "\n",
    "page = requests.get(url)\n",
    "\n",
    "soup = BeautifulSoup(page.text, 'html')"
   ]
  },
  {
   "cell_type": "code",
   "execution_count": 4,
   "id": "9b122f20",
   "metadata": {},
   "outputs": [],
   "source": [
    "table = soup.find('table', class_ = 'wikitable')"
   ]
  },
  {
   "cell_type": "code",
   "execution_count": 5,
   "id": "fb934f24",
   "metadata": {},
   "outputs": [
    {
     "data": {
      "text/plain": [
       "[<th>Chapter\n",
       " </th>,\n",
       " <th>Block\n",
       " </th>,\n",
       " <th>Title\n",
       " </th>]"
      ]
     },
     "execution_count": 5,
     "metadata": {},
     "output_type": "execute_result"
    }
   ],
   "source": [
    "# get column titles through <th> tags \n",
    "ICD9_title = table.find_all('th') #it is a list\n",
    "ICD9_title"
   ]
  },
  {
   "cell_type": "code",
   "execution_count": 6,
   "id": "b883a51a",
   "metadata": {},
   "outputs": [
    {
     "data": {
      "text/plain": [
       "['Chapter', 'Block', 'Title']"
      ]
     },
     "execution_count": 6,
     "metadata": {},
     "output_type": "execute_result"
    }
   ],
   "source": [
    "title_names = [n.text.strip() for n in ICD9_title]   #remove backstrings\n",
    "title_names"
   ]
  },
  {
   "cell_type": "code",
   "execution_count": 7,
   "id": "bd94b02f",
   "metadata": {},
   "outputs": [],
   "source": [
    "import pandas as pd"
   ]
  },
  {
   "cell_type": "code",
   "execution_count": 8,
   "id": "85a01398",
   "metadata": {},
   "outputs": [
    {
     "data": {
      "text/html": [
       "<div>\n",
       "<style scoped>\n",
       "    .dataframe tbody tr th:only-of-type {\n",
       "        vertical-align: middle;\n",
       "    }\n",
       "\n",
       "    .dataframe tbody tr th {\n",
       "        vertical-align: top;\n",
       "    }\n",
       "\n",
       "    .dataframe thead th {\n",
       "        text-align: right;\n",
       "    }\n",
       "</style>\n",
       "<table border=\"1\" class=\"dataframe\">\n",
       "  <thead>\n",
       "    <tr style=\"text-align: right;\">\n",
       "      <th></th>\n",
       "      <th>Chapter</th>\n",
       "      <th>Block</th>\n",
       "      <th>Title</th>\n",
       "    </tr>\n",
       "  </thead>\n",
       "  <tbody>\n",
       "  </tbody>\n",
       "</table>\n",
       "</div>"
      ],
      "text/plain": [
       "Empty DataFrame\n",
       "Columns: [Chapter, Block, Title]\n",
       "Index: []"
      ]
     },
     "execution_count": 8,
     "metadata": {},
     "output_type": "execute_result"
    }
   ],
   "source": [
    "df = pd.DataFrame(columns = title_names)\n",
    "df"
   ]
  },
  {
   "cell_type": "code",
   "execution_count": 10,
   "id": "f5a07827",
   "metadata": {
    "scrolled": false
   },
   "outputs": [
    {
     "name": "stdout",
     "output_type": "stream",
     "text": [
      "I\n",
      "\n",
      "001–139\n",
      "\n",
      "Infectious and Parasitic Diseases\n",
      "\n",
      "II\n",
      "\n",
      "140–239\n",
      "\n",
      "Neoplasms\n",
      "\n",
      "III\n",
      "\n",
      "240–279\n",
      "\n",
      "Endocrine, Nutritional and Metabolic Diseases, and Immunity Disorders\n",
      "\n",
      "IV\n",
      "\n",
      "280–289\n",
      "\n",
      "Diseases of the Blood and Blood-forming Organs\n",
      "\n",
      "V\n",
      "\n",
      "290–319\n",
      "\n",
      "Mental Disorders\n",
      "\n",
      "VI\n",
      "\n",
      "320–389\n",
      "\n",
      "Diseases of the Nervous System and Sense Organs\n",
      "\n",
      "VII\n",
      "\n",
      "390–459\n",
      "\n",
      "Diseases of the Circulatory System\n",
      "\n",
      "VIII\n",
      "\n",
      "460–519\n",
      "\n",
      "Diseases of the Respiratory System\n",
      "\n",
      "IX\n",
      "\n",
      "520–579\n",
      "\n",
      "Diseases of the Digestive System\n",
      "\n",
      "X\n",
      "\n",
      "580–629\n",
      "\n",
      "Diseases of the Genitourinary System\n",
      "\n",
      "XI\n",
      "\n",
      "630–679\n",
      "\n",
      "Complications of Pregnancy, Childbirth, and the Puerperium\n",
      "\n",
      "XII\n",
      "\n",
      "680–709\n",
      "\n",
      "Diseases of the Skin and Subcutaneous Tissue\n",
      "\n",
      "XIII\n",
      "\n",
      "710–739\n",
      "\n",
      "Diseases of the Musculoskeletal System and Connective Tissue\n",
      "\n",
      "XIV\n",
      "\n",
      "740–759\n",
      "\n",
      "Congenital Anomalies\n",
      "\n",
      "XV\n",
      "\n",
      "760–779\n",
      "\n",
      "Certain Conditions originating in the Perinatal Period\n",
      "\n",
      "XVI\n",
      "\n",
      "780–799\n",
      "\n",
      "Symptoms, Signs and Ill-defined Conditions\n",
      "\n",
      "XVII\n",
      "\n",
      "800–999\n",
      "\n",
      "Injury and Poisoning\n",
      "\n",
      "\n",
      "\n",
      "E800–E999\n",
      "\n",
      "Supplementary Classification of External Causes of Injury and Poisoning\n",
      "\n",
      "\n",
      "\n",
      "V01–V82\n",
      "\n",
      "Supplementary Classification of Factors influencing Health Status and Contact with Health Services\n",
      "\n",
      "\n",
      "\n",
      "M8000–M9970\n",
      "\n",
      "Morphology of Neoplasms\n",
      "\n"
     ]
    }
   ],
   "source": [
    "content_list = table.find_all('td')\n",
    "\n",
    "for content in content_list:\n",
    "    print(content.text)"
   ]
  },
  {
   "cell_type": "code",
   "execution_count": 11,
   "id": "4a2a3a1c",
   "metadata": {},
   "outputs": [],
   "source": [
    "# save it to txt.file\n",
    "with open('My ICD9 code notebook.txt','w') as file:\n",
    "    for content in content_list:\n",
    "        file.write(content.text)\n"
   ]
  },
  {
   "cell_type": "code",
   "execution_count": 12,
   "id": "938a9d32",
   "metadata": {},
   "outputs": [
    {
     "name": "stdout",
     "output_type": "stream",
     "text": [
      "['I', 'II', 'III', 'IV', 'V', 'VI', 'VII', 'VIII', 'IX', 'X', 'XI', 'XII', 'XIII', 'XIV', 'XV', 'XVI', 'XVII', '', '', '']\n"
     ]
    }
   ],
   "source": [
    "#column1: chapter list\n",
    "chapter_list=[]\n",
    "n = -1\n",
    "while n <= 18:\n",
    "    n +=1\n",
    "    chapter_n = content_list[3*n].text.replace('\\n','')\n",
    "    chapter_list.append(chapter_n)\n",
    "print(chapter_list)"
   ]
  },
  {
   "cell_type": "code",
   "execution_count": 13,
   "id": "6f11d156",
   "metadata": {},
   "outputs": [
    {
     "name": "stdout",
     "output_type": "stream",
     "text": [
      "['001–139', '140–239', '240–279', '280–289', '290–319', '320–389', '390–459', '460–519', '520–579', '580–629', '630–679', '680–709', '710–739', '740–759', '760–779', '780–799', '800–999', 'E800–E999', 'V01–V82', 'M8000–M9970']\n"
     ]
    }
   ],
   "source": [
    "#column2: block list\n",
    "block_list=[]\n",
    "n = -1\n",
    "while n <= 18:\n",
    "    n +=1\n",
    "    block_n = content_list[3*n+1].text.replace('\\n','')\n",
    "    block_list.append(block_n)\n",
    "print(block_list)"
   ]
  },
  {
   "cell_type": "code",
   "execution_count": 14,
   "id": "610a36bb",
   "metadata": {},
   "outputs": [
    {
     "name": "stdout",
     "output_type": "stream",
     "text": [
      "['Infectious and Parasitic Diseases', 'Neoplasms', 'Endocrine, Nutritional and Metabolic Diseases, and Immunity Disorders', 'Diseases of the Blood and Blood-forming Organs', 'Mental Disorders', 'Diseases of the Nervous System and Sense Organs', 'Diseases of the Circulatory System', 'Diseases of the Respiratory System', 'Diseases of the Digestive System', 'Diseases of the Genitourinary System', 'Complications of Pregnancy, Childbirth, and the Puerperium', 'Diseases of the Skin and Subcutaneous Tissue', 'Diseases of the Musculoskeletal System and Connective Tissue', 'Congenital Anomalies', 'Certain Conditions originating in the Perinatal Period', 'Symptoms, Signs and Ill-defined Conditions', 'Injury and Poisoning', 'Supplementary Classification of External Causes of Injury and Poisoning', 'Supplementary Classification of Factors influencing Health Status and Contact with Health Services', 'Morphology of Neoplasms']\n"
     ]
    }
   ],
   "source": [
    "#column3: title list\n",
    "title_list=[]\n",
    "n = -1\n",
    "while n <= 18:\n",
    "    n +=1\n",
    "    title_n = content_list[3*n+2].text.replace('\\n','')\n",
    "    title_list.append(title_n)\n",
    "print(title_list)"
   ]
  },
  {
   "cell_type": "code",
   "execution_count": 17,
   "id": "276c6e9b",
   "metadata": {},
   "outputs": [
    {
     "data": {
      "text/html": [
       "<div>\n",
       "<style scoped>\n",
       "    .dataframe tbody tr th:only-of-type {\n",
       "        vertical-align: middle;\n",
       "    }\n",
       "\n",
       "    .dataframe tbody tr th {\n",
       "        vertical-align: top;\n",
       "    }\n",
       "\n",
       "    .dataframe thead th {\n",
       "        text-align: right;\n",
       "    }\n",
       "</style>\n",
       "<table border=\"1\" class=\"dataframe\">\n",
       "  <thead>\n",
       "    <tr style=\"text-align: right;\">\n",
       "      <th></th>\n",
       "      <th>Chapter</th>\n",
       "      <th>Block</th>\n",
       "      <th>Title</th>\n",
       "    </tr>\n",
       "  </thead>\n",
       "  <tbody>\n",
       "    <tr>\n",
       "      <th>0</th>\n",
       "      <td>I</td>\n",
       "      <td>001–139</td>\n",
       "      <td>Infectious and Parasitic Diseases</td>\n",
       "    </tr>\n",
       "    <tr>\n",
       "      <th>1</th>\n",
       "      <td>II</td>\n",
       "      <td>140–239</td>\n",
       "      <td>Neoplasms</td>\n",
       "    </tr>\n",
       "    <tr>\n",
       "      <th>2</th>\n",
       "      <td>III</td>\n",
       "      <td>240–279</td>\n",
       "      <td>Endocrine, Nutritional and Metabolic Diseases,...</td>\n",
       "    </tr>\n",
       "    <tr>\n",
       "      <th>3</th>\n",
       "      <td>IV</td>\n",
       "      <td>280–289</td>\n",
       "      <td>Diseases of the Blood and Blood-forming Organs</td>\n",
       "    </tr>\n",
       "    <tr>\n",
       "      <th>4</th>\n",
       "      <td>V</td>\n",
       "      <td>290–319</td>\n",
       "      <td>Mental Disorders</td>\n",
       "    </tr>\n",
       "    <tr>\n",
       "      <th>5</th>\n",
       "      <td>VI</td>\n",
       "      <td>320–389</td>\n",
       "      <td>Diseases of the Nervous System and Sense Organs</td>\n",
       "    </tr>\n",
       "    <tr>\n",
       "      <th>6</th>\n",
       "      <td>VII</td>\n",
       "      <td>390–459</td>\n",
       "      <td>Diseases of the Circulatory System</td>\n",
       "    </tr>\n",
       "    <tr>\n",
       "      <th>7</th>\n",
       "      <td>VIII</td>\n",
       "      <td>460–519</td>\n",
       "      <td>Diseases of the Respiratory System</td>\n",
       "    </tr>\n",
       "    <tr>\n",
       "      <th>8</th>\n",
       "      <td>IX</td>\n",
       "      <td>520–579</td>\n",
       "      <td>Diseases of the Digestive System</td>\n",
       "    </tr>\n",
       "    <tr>\n",
       "      <th>9</th>\n",
       "      <td>X</td>\n",
       "      <td>580–629</td>\n",
       "      <td>Diseases of the Genitourinary System</td>\n",
       "    </tr>\n",
       "    <tr>\n",
       "      <th>10</th>\n",
       "      <td>XI</td>\n",
       "      <td>630–679</td>\n",
       "      <td>Complications of Pregnancy, Childbirth, and th...</td>\n",
       "    </tr>\n",
       "    <tr>\n",
       "      <th>11</th>\n",
       "      <td>XII</td>\n",
       "      <td>680–709</td>\n",
       "      <td>Diseases of the Skin and Subcutaneous Tissue</td>\n",
       "    </tr>\n",
       "    <tr>\n",
       "      <th>12</th>\n",
       "      <td>XIII</td>\n",
       "      <td>710–739</td>\n",
       "      <td>Diseases of the Musculoskeletal System and Con...</td>\n",
       "    </tr>\n",
       "    <tr>\n",
       "      <th>13</th>\n",
       "      <td>XIV</td>\n",
       "      <td>740–759</td>\n",
       "      <td>Congenital Anomalies</td>\n",
       "    </tr>\n",
       "    <tr>\n",
       "      <th>14</th>\n",
       "      <td>XV</td>\n",
       "      <td>760–779</td>\n",
       "      <td>Certain Conditions originating in the Perinata...</td>\n",
       "    </tr>\n",
       "    <tr>\n",
       "      <th>15</th>\n",
       "      <td>XVI</td>\n",
       "      <td>780–799</td>\n",
       "      <td>Symptoms, Signs and Ill-defined Conditions</td>\n",
       "    </tr>\n",
       "    <tr>\n",
       "      <th>16</th>\n",
       "      <td>XVII</td>\n",
       "      <td>800–999</td>\n",
       "      <td>Injury and Poisoning</td>\n",
       "    </tr>\n",
       "    <tr>\n",
       "      <th>17</th>\n",
       "      <td></td>\n",
       "      <td>E800–E999</td>\n",
       "      <td>Supplementary Classification of External Cause...</td>\n",
       "    </tr>\n",
       "    <tr>\n",
       "      <th>18</th>\n",
       "      <td></td>\n",
       "      <td>V01–V82</td>\n",
       "      <td>Supplementary Classification of Factors influe...</td>\n",
       "    </tr>\n",
       "    <tr>\n",
       "      <th>19</th>\n",
       "      <td></td>\n",
       "      <td>M8000–M9970</td>\n",
       "      <td>Morphology of Neoplasms</td>\n",
       "    </tr>\n",
       "  </tbody>\n",
       "</table>\n",
       "</div>"
      ],
      "text/plain": [
       "   Chapter        Block                                              Title\n",
       "0        I      001–139                  Infectious and Parasitic Diseases\n",
       "1       II      140–239                                          Neoplasms\n",
       "2      III      240–279  Endocrine, Nutritional and Metabolic Diseases,...\n",
       "3       IV      280–289     Diseases of the Blood and Blood-forming Organs\n",
       "4        V      290–319                                   Mental Disorders\n",
       "5       VI      320–389    Diseases of the Nervous System and Sense Organs\n",
       "6      VII      390–459                 Diseases of the Circulatory System\n",
       "7     VIII      460–519                 Diseases of the Respiratory System\n",
       "8       IX      520–579                   Diseases of the Digestive System\n",
       "9        X      580–629               Diseases of the Genitourinary System\n",
       "10      XI      630–679  Complications of Pregnancy, Childbirth, and th...\n",
       "11     XII      680–709       Diseases of the Skin and Subcutaneous Tissue\n",
       "12    XIII      710–739  Diseases of the Musculoskeletal System and Con...\n",
       "13     XIV      740–759                               Congenital Anomalies\n",
       "14      XV      760–779  Certain Conditions originating in the Perinata...\n",
       "15     XVI      780–799         Symptoms, Signs and Ill-defined Conditions\n",
       "16    XVII      800–999                               Injury and Poisoning\n",
       "17            E800–E999  Supplementary Classification of External Cause...\n",
       "18              V01–V82  Supplementary Classification of Factors influe...\n",
       "19          M8000–M9970                            Morphology of Neoplasms"
      ]
     },
     "execution_count": 17,
     "metadata": {},
     "output_type": "execute_result"
    }
   ],
   "source": [
    " #create a dataframe fot these columns\n",
    "df = pd.DataFrame({\n",
    "     title_names[0]: chapter_list,\n",
    "     title_names[1]: block_list,\n",
    "     title_names[2]: title_list\n",
    " }, columns = title_names)\n",
    "\n",
    "df"
   ]
  },
  {
   "cell_type": "code",
   "execution_count": 18,
   "id": "0fb800f2",
   "metadata": {},
   "outputs": [
    {
     "name": "stdout",
     "output_type": "stream",
     "text": [
      "complete!\n"
     ]
    }
   ],
   "source": [
    "df.to_csv('ICD9 code.csv')\n",
    "print('complete!')"
   ]
  },
  {
   "cell_type": "code",
   "execution_count": null,
   "id": "3807a46e",
   "metadata": {},
   "outputs": [],
   "source": []
  }
 ],
 "metadata": {
  "kernelspec": {
   "display_name": "Python 3 (ipykernel)",
   "language": "python",
   "name": "python3"
  },
  "language_info": {
   "codemirror_mode": {
    "name": "ipython",
    "version": 3
   },
   "file_extension": ".py",
   "mimetype": "text/x-python",
   "name": "python",
   "nbconvert_exporter": "python",
   "pygments_lexer": "ipython3",
   "version": "3.11.5"
  }
 },
 "nbformat": 4,
 "nbformat_minor": 5
}
